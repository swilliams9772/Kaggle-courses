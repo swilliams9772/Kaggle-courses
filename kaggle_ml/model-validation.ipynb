{
 "cells": [
  {
   "cell_type": "markdown",
   "metadata": {},
   "source": [
    "**This notebook is an exercise in the [Introduction to Machine Learning](https://www.kaggle.com/learn/intro-to-machine-learning) course.  You can reference the tutorial at [this link](https://www.kaggle.com/dansbecker/model-validation).**\n",
    "\n",
    "---\n"
   ]
  },
  {
   "cell_type": "markdown",
   "metadata": {},
   "source": [
    "## Recap\n",
    "You've built a model. In this exercise you will test how good your model is.\n",
    "\n",
    "Run the cell below to set up your coding environment where the previous exercise left off."
   ]
  },
  {
   "cell_type": "code",
   "execution_count": 1,
   "metadata": {
    "tags": []
   },
   "outputs": [
    {
     "name": "stdout",
     "output_type": "stream",
     "text": [
      "First in-sample predictions: [208500. 181500. 223500. 140000. 250000.]\n",
      "Actual target values for those homes: [208500, 181500, 223500, 140000, 250000]\n",
      "Setup Complete\n"
     ]
    }
   ],
   "source": [
    "# Code you have previously used to load data\n",
    "import pandas as pd\n",
    "from sklearn.tree import DecisionTreeRegressor\n",
    "\n",
    "# Path of the file to read\n",
    "iowa_file_path = './data/home-data-for-ml-course/train.csv'\n",
    "\n",
    "home_data = pd.read_csv(iowa_file_path)\n",
    "y = home_data.SalePrice\n",
    "feature_columns = ['LotArea', 'YearBuilt', '1stFlrSF', '2ndFlrSF', 'FullBath', 'BedroomAbvGr', 'TotRmsAbvGrd']\n",
    "X = home_data[feature_columns]\n",
    "\n",
    "# Specify Model\n",
    "iowa_model = DecisionTreeRegressor()\n",
    "# Fit Model\n",
    "iowa_model.fit(X, y)\n",
    "\n",
    "print(\"First in-sample predictions:\", iowa_model.predict(X.head()))\n",
    "print(\"Actual target values for those homes:\", y.head().tolist())\n",
    "\n",
    "# Set up code checking\n",
    "print(\"Setup Complete\")"
   ]
  },
  {
   "cell_type": "markdown",
   "metadata": {},
   "source": [
    "# Exercises\n",
    "\n",
    "## Step 1: Split Your Data\n",
    "Use the `train_test_split` function to split up your data.\n",
    "\n",
    "Give it the argument `random_state=1` so the `check` functions know what to expect when verifying your code.\n",
    "\n",
    "Recall, your features are loaded in the DataFrame **X** and your target is loaded in **y**.\n"
   ]
  },
  {
   "cell_type": "code",
   "execution_count": 2,
   "metadata": {
    "tags": []
   },
   "outputs": [],
   "source": [
    "# Import the train_test_split function \n",
    "from sklearn.model_selection import train_test_split\n",
    "\n",
    "#split data\n",
    "train_X, val_X, train_y, val_y = train_test_split(X, y, random_state = 1)"
   ]
  },
  {
   "cell_type": "markdown",
   "metadata": {},
   "source": [
    "## Step 2: Specify and Fit the Model\n",
    "\n",
    "Create a `DecisionTreeRegressor` model and fit it to the relevant data.\n",
    "Set `random_state` to 1 again when creating the model."
   ]
  },
  {
   "cell_type": "code",
   "execution_count": 3,
   "metadata": {
    "tags": []
   },
   "outputs": [
    {
     "data": {
      "text/plain": [
       "DecisionTreeRegressor(random_state=1)"
      ]
     },
     "execution_count": 3,
     "metadata": {},
     "output_type": "execute_result"
    }
   ],
   "source": [
    "# Imported DecisionTreeRegressor in the setup code above. So, no need to\n",
    "# import it again\n",
    "\n",
    "# Specify the model\n",
    "iowa_model = DecisionTreeRegressor(random_state = 1)\n",
    "\n",
    "# Fit iowa_model with the training data.\n",
    "iowa_model.fit(train_X,train_y)\n",
    "\n",
    "# Check your answer\n",
    "iowa_model"
   ]
  },
  {
   "cell_type": "markdown",
   "metadata": {},
   "source": [
    "## Step 3: Make Predictions with Validation data\n"
   ]
  },
  {
   "cell_type": "code",
   "execution_count": 4,
   "metadata": {
    "tags": []
   },
   "outputs": [
    {
     "data": {
      "text/plain": [
       "array([186500., 184000., 130000.,  92000., 164500., 220000., 335000.,\n",
       "       144152., 215000., 262000., 180000., 121000., 175900., 210000.,\n",
       "       248900., 131000., 100000., 149350., 235000., 156000., 149900.,\n",
       "       265979., 193500., 377500., 100000., 162900., 145000., 180000.,\n",
       "       582933., 146000., 140000.,  91500., 112500., 113000., 145000.,\n",
       "       312500., 110000., 132000., 305000., 128000., 162900., 115000.,\n",
       "       110000., 124000., 215200., 180000.,  79000., 192000., 282922.,\n",
       "       235000., 132000., 325000.,  80000., 237000., 208300., 100000.,\n",
       "       120500., 162000., 153000., 187000., 185750., 335000., 129000.,\n",
       "       124900., 185750., 133700., 127000., 230000., 146800., 157900.,\n",
       "       136000., 153575., 335000., 177500., 143000., 202500., 168500.,\n",
       "       105000., 305900., 192000., 190000., 140200., 134900., 128950.,\n",
       "       213000., 108959., 149500., 190000., 175900., 160000., 250580.,\n",
       "       157000., 120500., 147500., 118000., 117000., 110000., 130000.,\n",
       "       148500., 148000., 190000., 130500., 127000., 120500., 135000.,\n",
       "       168000., 176432., 128000., 147000., 260000., 132000., 129500.,\n",
       "       171000., 181134., 227875., 189000., 282922.,  94750., 185000.,\n",
       "       194000., 159000., 279500., 290000., 135000., 299800., 165000.,\n",
       "       394432., 135750., 155000., 212000., 310000., 134800.,  84000.,\n",
       "       122900.,  80000., 191000., 755000., 147000., 248000., 106500.,\n",
       "       145000., 359100., 145000., 192500., 149000., 252000., 109000.,\n",
       "       215000., 220000., 138500., 185000., 185000., 120500., 181000.,\n",
       "       173000., 335000.,  67000., 149350.,  67000., 156000., 119000.,\n",
       "       110500., 184000., 147000., 156000., 171000., 177000., 159000.,\n",
       "       125000., 105000., 284000., 167500., 200000., 312500., 213000.,\n",
       "       135960., 205000., 237000., 107000., 163000., 132500., 155835.,\n",
       "       165500., 138500., 257000., 160000., 394617., 281213., 161000.,\n",
       "       127500.,  88000., 139000.,  89500., 132500., 134800., 335000.,\n",
       "       248900., 155000., 147000.,  86000., 185000., 200000., 180500.,\n",
       "       215200., 319900., 105000., 194000., 340000., 256000., 280000.,\n",
       "       186500., 105500., 155000., 133500., 255500., 253000., 130000.,\n",
       "        92900., 256000., 100000., 755000., 138500., 168500., 112000.,\n",
       "       127000., 109008., 197000., 245500., 171900., 162000., 128000.,\n",
       "       173000., 132000., 118000., 235128., 118964., 260000., 116000.,\n",
       "       185000., 315750., 236500., 140000., 151500., 184000.,  84000.,\n",
       "       130000., 154000., 205000., 110000., 151500., 123000., 129500.,\n",
       "       173900., 181500., 165500., 106500., 184900.,  84500., 377500.,\n",
       "       118500., 180000., 190000., 208500., 181000.,  98000., 157000.,\n",
       "       151500.,  84000., 139000., 100000., 161750., 165600., 116000.,\n",
       "       118500., 187000., 147000., 112000., 132000., 230000., 128000.,\n",
       "       147000., 125000., 145000., 151000., 284000., 221000., 140200.,\n",
       "       129000., 290000., 105000.,  96500., 310000., 140000., 132000.,\n",
       "       203000., 221000., 215200., 214000., 139000.,  91500., 148000.,\n",
       "       155000., 115000., 180000., 165500., 223000., 139000., 179900.,\n",
       "       150000., 185000., 163000., 176000., 127000., 227000., 146000.,\n",
       "        99900., 275000., 180500., 180000., 157000., 186500., 179900.,\n",
       "       137500., 219500., 155000., 345000., 197000., 205000., 159000.,\n",
       "       159434., 156000., 196000., 252678., 255500., 213000., 150900.,\n",
       "       143750., 139000., 260000., 189000., 213250., 207500.,  80000.,\n",
       "       221000., 109500., 155000., 165000., 149350., 204900., 105900.,\n",
       "       155000., 176000., 395000., 149700., 147000., 143900., 226700.,\n",
       "       176000., 116000., 325300., 133750., 188500., 148500., 284000.,\n",
       "       201800.])"
      ]
     },
     "execution_count": 4,
     "metadata": {},
     "output_type": "execute_result"
    }
   ],
   "source": [
    "# Predict with all validation observations\n",
    "val_predictions = iowa_model.predict(val_X)\n",
    "\n",
    "# Check your answer\n",
    "val_predictions"
   ]
  },
  {
   "cell_type": "markdown",
   "metadata": {},
   "source": [
    "Inspect your predictions and actual values from validation data."
   ]
  },
  {
   "cell_type": "code",
   "execution_count": 5,
   "metadata": {
    "tags": []
   },
   "outputs": [
    {
     "name": "stdout",
     "output_type": "stream",
     "text": [
      "[186500. 184000. 130000.  92000. 164500.]\n",
      "[231500, 179500, 122000, 84500, 142000]\n"
     ]
    }
   ],
   "source": [
    "# print the top few validation predictions\n",
    "print(iowa_model.predict(val_X.head()))\n",
    "# print the top few actual prices from validation data\n",
    "print(val_y.head().tolist())"
   ]
  },
  {
   "cell_type": "markdown",
   "metadata": {},
   "source": [
    "What do you notice that is different from what you saw with in-sample predictions (which are printed after the top code cell in this page).\n",
    "\n",
    "Do you remember why validation predictions differ from in-sample (or training) predictions? This is an important idea from the last lesson.\n",
    "\n",
    "## Step 4: Calculate the Mean Absolute Error in Validation Data\n"
   ]
  },
  {
   "cell_type": "code",
   "execution_count": 6,
   "metadata": {
    "tags": []
   },
   "outputs": [
    {
     "name": "stdout",
     "output_type": "stream",
     "text": [
      "29652.931506849316\n"
     ]
    }
   ],
   "source": [
    "from sklearn.metrics import mean_absolute_error\n",
    "val_mae = mean_absolute_error(val_y, val_predictions)\n",
    "# print the validation_mae\n",
    "print(val_mae)"
   ]
  }
 ],
 "metadata": {
  "kernelspec": {
   "display_name": "Python 3",
   "language": "python",
   "name": "python3"
  },
  "language_info": {
   "codemirror_mode": {
    "name": "ipython",
    "version": 3
   },
   "file_extension": ".py",
   "mimetype": "text/x-python",
   "name": "python",
   "nbconvert_exporter": "python",
   "pygments_lexer": "ipython3",
   "version": "3.8.8"
  }
 },
 "nbformat": 4,
 "nbformat_minor": 4
}
