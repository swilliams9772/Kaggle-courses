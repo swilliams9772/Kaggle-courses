{
 "cells": [
  {
   "cell_type": "markdown",
   "metadata": {},
   "source": [
    "# Strings and Dictionaries"
   ]
  },
  {
   "cell_type": "markdown",
   "metadata": {},
   "source": [
    "**This notebook is an exercise in the [Python](https://www.kaggle.com/learn/python) course.  You can reference the tutorial at [this link](https://www.kaggle.com/colinmorris/strings-and-dictionaries).**\n",
    "\n",
    "---\n"
   ]
  },
  {
   "cell_type": "markdown",
   "metadata": {},
   "source": [
    "You are almost done with the course. Nice job!\n",
    "\n",
    "We have a couple more interesting problems for you before you go. "
   ]
  },
  {
   "cell_type": "markdown",
   "metadata": {},
   "source": [
    "Let's start with a string lightning round to warm up. What are the lengths of the strings below?\n",
    "\n",
    "For each of the five strings below, predict what `len()` would return when passed that string. Use the variable `length` to record your answer, then run the cell to check whether you were right.  \n",
    "\n",
    "# 0a."
   ]
  },
  {
   "cell_type": "code",
   "execution_count": null,
   "metadata": {
    "execution": {
     "iopub.execute_input": "2022-01-13T01:12:05.369971Z",
     "iopub.status.busy": "2022-01-13T01:12:05.369545Z",
     "iopub.status.idle": "2022-01-13T01:12:05.380266Z",
     "shell.execute_reply": "2022-01-13T01:12:05.379214Z",
     "shell.execute_reply.started": "2022-01-13T01:12:05.369938Z"
    }
   },
   "outputs": [],
   "source": [
    "a = \"\"\n",
    "length = 0\n",
    "q0.a.check()"
   ]
  },
  {
   "cell_type": "markdown",
   "metadata": {},
   "source": [
    "# 0b."
   ]
  },
  {
   "cell_type": "code",
   "execution_count": null,
   "metadata": {
    "execution": {
     "iopub.execute_input": "2022-01-13T01:12:15.905062Z",
     "iopub.status.busy": "2022-01-13T01:12:15.904714Z",
     "iopub.status.idle": "2022-01-13T01:12:15.914722Z",
     "shell.execute_reply": "2022-01-13T01:12:15.913792Z",
     "shell.execute_reply.started": "2022-01-13T01:12:15.905028Z"
    }
   },
   "outputs": [],
   "source": [
    "b = \"it's ok\"\n",
    "length = 7\n",
    "q0.b.check()"
   ]
  },
  {
   "cell_type": "markdown",
   "metadata": {},
   "source": [
    "# 0c."
   ]
  },
  {
   "cell_type": "code",
   "execution_count": null,
   "metadata": {
    "execution": {
     "iopub.execute_input": "2022-01-13T01:12:25.998397Z",
     "iopub.status.busy": "2022-01-13T01:12:25.997867Z",
     "iopub.status.idle": "2022-01-13T01:12:26.005258Z",
     "shell.execute_reply": "2022-01-13T01:12:26.004623Z",
     "shell.execute_reply.started": "2022-01-13T01:12:25.998348Z"
    }
   },
   "outputs": [],
   "source": [
    "c = 'it\\'s ok'\n",
    "length = 7\n",
    "q0.c.check()"
   ]
  },
  {
   "cell_type": "markdown",
   "metadata": {},
   "source": [
    "# 0d."
   ]
  },
  {
   "cell_type": "code",
   "execution_count": null,
   "metadata": {
    "execution": {
     "iopub.execute_input": "2022-01-13T01:12:33.400941Z",
     "iopub.status.busy": "2022-01-13T01:12:33.40044Z",
     "iopub.status.idle": "2022-01-13T01:12:33.408415Z",
     "shell.execute_reply": "2022-01-13T01:12:33.407579Z",
     "shell.execute_reply.started": "2022-01-13T01:12:33.400887Z"
    }
   },
   "outputs": [],
   "source": [
    "d = \"\"\"hey\"\"\"\n",
    "length = 3\n",
    "q0.d.check()"
   ]
  },
  {
   "cell_type": "markdown",
   "metadata": {},
   "source": [
    "# 0e."
   ]
  },
  {
   "cell_type": "code",
   "execution_count": null,
   "metadata": {
    "execution": {
     "iopub.execute_input": "2022-01-13T01:12:50.444897Z",
     "iopub.status.busy": "2022-01-13T01:12:50.444111Z",
     "iopub.status.idle": "2022-01-13T01:12:50.452908Z",
     "shell.execute_reply": "2022-01-13T01:12:50.451737Z",
     "shell.execute_reply.started": "2022-01-13T01:12:50.444854Z"
    }
   },
   "outputs": [],
   "source": [
    "e = '\\n'\n",
    "length = 1\n",
    "q0.e.check()"
   ]
  },
  {
   "cell_type": "markdown",
   "metadata": {},
   "source": [
    "# 1.\n",
    "\n",
    "There is a saying that \"Data scientists spend 80% of their time cleaning data, and 20% of their time complaining about cleaning data.\" Let's see if you can write a function to help clean US zip code data. Given a string, it should return whether or not that string represents a valid zip code. For our purposes, a valid zip code is any string consisting of exactly 5 digits.\n",
    "\n",
    "HINT: `str` has a method that will be useful here. Use `help(str)` to review a list of string methods."
   ]
  },
  {
   "cell_type": "code",
   "execution_count": null,
   "metadata": {
    "execution": {
     "iopub.execute_input": "2022-01-13T02:19:34.761253Z",
     "iopub.status.busy": "2022-01-13T02:19:34.760948Z",
     "iopub.status.idle": "2022-01-13T02:19:34.770559Z",
     "shell.execute_reply": "2022-01-13T02:19:34.76975Z",
     "shell.execute_reply.started": "2022-01-13T02:19:34.761221Z"
    }
   },
   "outputs": [],
   "source": [
    "def is_valid_zip(zip_code):\n",
    "    \"\"\"Returns whether the input string is a valid (5 digit) zip code\n",
    "    \"\"\"\n",
    "    return len(zip_code) == 5 and zip_code.isdigit()\n"
   ]
  },
  {
   "cell_type": "markdown",
   "metadata": {},
   "source": [
    "# 2.\n",
    "\n",
    "A researcher has gathered thousands of news articles. But she wants to focus her attention on articles including a specific word. Complete the function below to help her filter her list of articles.\n",
    "\n",
    "Your function should meet the following criteria:\n",
    "\n",
    "- Do not include documents where the keyword string shows up only as a part of a larger word. For example, if she were looking for the keyword “closed”, you would not include the string “enclosed.” \n",
    "- She does not want you to distinguish upper case from lower case letters. So the phrase “Closed the case.” would be included when the keyword is “closed”\n",
    "- Do not let periods or commas affect what is matched. “It is closed.” would be included when the keyword is “closed”. But you can assume there are no other types of punctuation."
   ]
  },
  {
   "cell_type": "code",
   "execution_count": null,
   "metadata": {
    "execution": {
     "iopub.execute_input": "2022-01-13T02:34:29.155971Z",
     "iopub.status.busy": "2022-01-13T02:34:29.155087Z",
     "iopub.status.idle": "2022-01-13T02:34:29.166966Z",
     "shell.execute_reply": "2022-01-13T02:34:29.16625Z",
     "shell.execute_reply.started": "2022-01-13T02:34:29.155927Z"
    }
   },
   "outputs": [],
   "source": [
    "def word_search(doc_list, keyword):\n",
    "    \"\"\"\n",
    "    Takes a list of documents (each document is a string) and a keyword. \n",
    "    Returns list of the index values into the original list for all documents \n",
    "    containing the keyword.\n",
    "\n",
    "    Example:\n",
    "    doc_list = [\"The Learn Python Challenge Casino.\", \"They bought a car\", \"Casinoville\"]\n",
    "    >>> word_search(doc_list, 'casino')\n",
    "    >>> [0]\n",
    "    \"\"\"\n",
    "    # list to hold the indices of matching documents\n",
    "    indices = [] \n",
    "    # Iterate through the indices (i) and elements (doc) of documents\n",
    "    for i, doc in enumerate(doc_list):\n",
    "        # Split the string doc into a list of words (according to whitespace)\n",
    "        tokens = doc.split()\n",
    "        # Make a transformed list where we 'normalize' each word to facilitate matching.\n",
    "        # Periods and commas are removed from the end of each word, and it's set to all lowercase.\n",
    "        normalized = [token.rstrip('.,').lower() for token in tokens]\n",
    "        # Is there a match? If so, update the list of matching indices.\n",
    "        if keyword.lower() in normalized:\n",
    "            indices.append(i)\n",
    "    return indices"
   ]
  },
  {
   "cell_type": "markdown",
   "metadata": {},
   "source": [
    "# 3.\n",
    "\n",
    "Now the researcher wants to supply multiple keywords to search for. Complete the function below to help her.\n",
    "\n",
    "(You're encouraged to use the `word_search` function you just wrote when implementing this function. Reusing code in this way makes your programs more robust and readable - and it saves typing!)"
   ]
  },
  {
   "cell_type": "code",
   "execution_count": null,
   "metadata": {
    "execution": {
     "iopub.execute_input": "2022-01-13T02:37:24.790936Z",
     "iopub.status.busy": "2022-01-13T02:37:24.790331Z",
     "iopub.status.idle": "2022-01-13T02:37:24.801696Z",
     "shell.execute_reply": "2022-01-13T02:37:24.800444Z",
     "shell.execute_reply.started": "2022-01-13T02:37:24.790886Z"
    }
   },
   "outputs": [],
   "source": [
    "def multi_word_search(doc_list, keywords):\n",
    "    \"\"\"\n",
    "    Takes list of documents (each document is a string) and a list of keywords.  \n",
    "    Returns a dictionary where each key is a keyword, and the value is a list of indices\n",
    "    (from doc_list) of the documents containing that keyword\n",
    "\n",
    "    >>> doc_list = [\"The Learn Python Challenge Casino.\", \"They bought a car and a casino\", \"Casinoville\"]\n",
    "    >>> keywords = ['casino', 'they']\n",
    "    >>> multi_word_search(doc_list, keywords)\n",
    "    {'casino': [0, 1], 'they': [1]}\n",
    "    \"\"\"\n",
    "    keyword_to_indices = {}\n",
    "    for keyword in keywords:\n",
    "        keyword_to_indices[keyword] = word_search(doc_list, keyword)\n",
    "    return keyword_to_indices\n"
   ]
  }
 ],
 "metadata": {
  "kernelspec": {
   "display_name": "Python 3",
   "language": "python",
   "name": "python3"
  },
  "language_info": {
   "codemirror_mode": {
    "name": "ipython",
    "version": 3
   },
   "file_extension": ".py",
   "mimetype": "text/x-python",
   "name": "python",
   "nbconvert_exporter": "python",
   "pygments_lexer": "ipython3",
   "version": "3.8.8"
  }
 },
 "nbformat": 4,
 "nbformat_minor": 4
}
